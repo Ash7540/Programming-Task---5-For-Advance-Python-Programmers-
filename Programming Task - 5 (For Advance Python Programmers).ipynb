{
 "cells": [
  {
   "cell_type": "code",
   "execution_count": null,
   "id": "e4d4099e",
   "metadata": {},
   "outputs": [],
   "source": [
    "# Subsets\n",
    "class Solution:\n",
    "    def subsets(self, nums: List[int]) -> List[List[int]]:\n",
    "        result = []\n",
    "        def rdf(i,subset):\n",
    "            if i>=len(nums):\n",
    "                result.append(subset)\n",
    "                return\n",
    "            rdf(i+1,subset+[nums[i]])\n",
    "            rdf(i+1,subset)\n",
    "        rdf(0,[])\n",
    "        return result        \n",
    "       "
   ]
  },
  {
   "cell_type": "code",
   "execution_count": null,
   "id": "14d7e89d",
   "metadata": {},
   "outputs": [],
   "source": [
    "# Hamming Distance\n",
    "class Solution:\n",
    "    def hammingDistance(self, x: int, y: int) -> int:\n",
    "        xor = x^y\n",
    "        res = 0\n",
    "        while xor:\n",
    "            res+= xor&1\n",
    "            xor>>=1\n",
    "        return res"
   ]
  },
  {
   "cell_type": "code",
   "execution_count": null,
   "id": "08e230a5",
   "metadata": {},
   "outputs": [],
   "source": [
    "# Single Number II\n",
    "class Solution:\n",
    "    def singleNumber(self, nums: List[int]) -> int:\n",
    "        for j in nums:\n",
    "            if nums.count(j)==1:\n",
    "               return j"
   ]
  }
 ],
 "metadata": {
  "kernelspec": {
   "display_name": "Python 3 (ipykernel)",
   "language": "python",
   "name": "python3"
  },
  "language_info": {
   "codemirror_mode": {
    "name": "ipython",
    "version": 3
   },
   "file_extension": ".py",
   "mimetype": "text/x-python",
   "name": "python",
   "nbconvert_exporter": "python",
   "pygments_lexer": "ipython3",
   "version": "3.9.12"
  }
 },
 "nbformat": 4,
 "nbformat_minor": 5
}
